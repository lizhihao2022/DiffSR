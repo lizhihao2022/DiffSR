{
 "cells": [
  {
   "cell_type": "code",
   "execution_count": 1,
   "id": "58c56dbb",
   "metadata": {},
   "outputs": [],
   "source": [
    "import sys\n",
    "sys.path.insert(1, '/ai/gno/CODE/DiffSR/')\n",
    "\n",
    "import yaml\n",
    "import torch\n",
    "import matplotlib.pyplot as plt\n",
    "import os.path as osp\n",
    "\n",
    "from trainers import *\n",
    "from datasets import NavierStokes2DDataset\n",
    "from forecastors import BaseForecaster, DDPMForecaster\n",
    "\n",
    "from matplotlib.patches import Ellipse\n",
    "import numpy as np\n",
    "\n",
    "from tqdm import tqdm"
   ]
  },
  {
   "cell_type": "code",
   "execution_count": 2,
   "id": "7e16c3a9",
   "metadata": {},
   "outputs": [
    {
     "name": "stdout",
     "output_type": "stream",
     "text": [
      "Building model: FNO2d\n",
      "=> loading checkpoint '/ai/gno/CODE/DiffSR/logs/NavierStokes2D/10_11/FNO2d_15_43_33/best_model.pth'\n",
      "Building model: UNet2d\n",
      "=> loading checkpoint '/ai/gno/CODE/DiffSR/logs/NavierStokes2D/10_11/UNet2d_15_40_53/best_model.pth'\n",
      "=> loading checkpoint '/ai/gno/CODE/DiffSR/logs/NavierStokes2D/10_11/DDPM_16_36_07/best_model.pth'\n",
      "=> loading checkpoint '/ai/gno/CODE/DiffSR/logs/NavierStokes2D/10_11/SR3_17_42_28/best_model.pth'\n"
     ]
    }
   ],
   "source": [
    "fno_dir = '/ai/gno/CODE/DiffSR/logs/NavierStokes2D/10_11/FNO2d_15_43_33'\n",
    "fno = BaseForecaster(fno_dir)\n",
    "\n",
    "unet_dir = '/ai/gno/CODE/DiffSR/logs/NavierStokes2D/10_11/UNet2d_15_40_53'\n",
    "unet = BaseForecaster(unet_dir)\n",
    "\n",
    "ddpm_dir = '/ai/gno/CODE/DiffSR/logs/NavierStokes2D/10_11/DDPM_16_36_07'\n",
    "ddpm = DDPMForecaster(ddpm_dir)\n",
    "\n",
    "sr3_dir = '/ai/gno/CODE/DiffSR/logs/NavierStokes2D/10_11/SR3_17_42_28'\n",
    "sr3 = DDPMForecaster(sr3_dir)"
   ]
  },
  {
   "cell_type": "code",
   "execution_count": 3,
   "id": "10bdaec7",
   "metadata": {},
   "outputs": [
    {
     "name": "stdout",
     "output_type": "stream",
     "text": [
      "Loading processed data from  /ai/gno/DATA/ns/ns_V1e-5_N1200_T20_sr.pt\n"
     ]
    }
   ],
   "source": [
    "data_args = unet.data_args\n",
    "dataset = NavierStokes2DDataset(data_args)\n",
    "loader = torch.utils.data.DataLoader(dataset.test_dataset, batch_size=1, shuffle=False, num_workers=0)\n",
    "normalizer = dataset.normalizer"
   ]
  },
  {
   "cell_type": "code",
   "execution_count": null,
   "id": "1292120f",
   "metadata": {},
   "outputs": [],
   "source": [
    "fno_metrics = fno.forecast(loader, normalizer)\n",
    "unet_metrics = unet.forecast(loader, normalizer)\n",
    "ddpm_metrics = ddpm.forecast(loader, normalizer)\n",
    "sr3_metrics = sr3.forecast(loader, normalizer)"
   ]
  },
  {
   "cell_type": "code",
   "execution_count": null,
   "id": "eae4b278",
   "metadata": {},
   "outputs": [
    {
     "ename": "TypeError",
     "evalue": "BaseForecaster.inference() missing 1 required positional argument: 'y'",
     "output_type": "error",
     "traceback": [
      "\u001b[0;31m---------------------------------------------------------------------------\u001b[0m",
      "\u001b[0;31mTypeError\u001b[0m                                 Traceback (most recent call last)",
      "Cell \u001b[0;32mIn[5], line 5\u001b[0m\n\u001b[1;32m      2\u001b[0m raw_x \u001b[38;5;241m=\u001b[39m loader\u001b[38;5;241m.\u001b[39mdataset[idx][\u001b[38;5;241m0\u001b[39m]\u001b[38;5;241m.\u001b[39munsqueeze(\u001b[38;5;241m0\u001b[39m)\n\u001b[1;32m      3\u001b[0m raw_y \u001b[38;5;241m=\u001b[39m loader\u001b[38;5;241m.\u001b[39mdataset[idx][\u001b[38;5;241m1\u001b[39m]\u001b[38;5;241m.\u001b[39munsqueeze(\u001b[38;5;241m0\u001b[39m)\n\u001b[0;32m----> 5\u001b[0m \u001b[43mfno\u001b[49m\u001b[38;5;241;43m.\u001b[39;49m\u001b[43mvis\u001b[49m\u001b[43m(\u001b[49m\u001b[43mraw_x\u001b[49m\u001b[43m,\u001b[49m\u001b[43m \u001b[49m\u001b[43mraw_y\u001b[49m\u001b[43m,\u001b[49m\u001b[43m \u001b[49m\u001b[43mnormalizer\u001b[49m\u001b[43m)\u001b[49m\n\u001b[1;32m      6\u001b[0m unet\u001b[38;5;241m.\u001b[39mvis(raw_x, raw_y, normalizer)\n\u001b[1;32m      7\u001b[0m ddpm\u001b[38;5;241m.\u001b[39mvis(raw_x, raw_y, normalizer)\n",
      "File \u001b[0;32m/ai/gno/CODE/DiffSR/forecastors/base.py:107\u001b[0m, in \u001b[0;36mBaseForecaster.vis\u001b[0;34m(self, raw_x, raw_y, normalizer, save_path, **kwargs)\u001b[0m\n\u001b[1;32m    105\u001b[0m \u001b[38;5;28;01mwith\u001b[39;00m torch\u001b[38;5;241m.\u001b[39mno_grad():\n\u001b[1;32m    106\u001b[0m     raw_x \u001b[38;5;241m=\u001b[39m raw_x\u001b[38;5;241m.\u001b[39mto(\u001b[38;5;28mself\u001b[39m\u001b[38;5;241m.\u001b[39mdevice)\n\u001b[0;32m--> 107\u001b[0m     pred_y \u001b[38;5;241m=\u001b[39m \u001b[38;5;28;43mself\u001b[39;49m\u001b[38;5;241;43m.\u001b[39;49m\u001b[43minference\u001b[49m\u001b[43m(\u001b[49m\u001b[43mraw_x\u001b[49m\u001b[43m)\u001b[49m\n\u001b[1;32m    108\u001b[0m pred_y \u001b[38;5;241m=\u001b[39m normalizer\u001b[38;5;241m.\u001b[39mdecode(pred_y)\n\u001b[1;32m    109\u001b[0m raw_y \u001b[38;5;241m=\u001b[39m normalizer\u001b[38;5;241m.\u001b[39mdecode(raw_y)\n",
      "\u001b[0;31mTypeError\u001b[0m: BaseForecaster.inference() missing 1 required positional argument: 'y'"
     ]
    }
   ],
   "source": [
    "idx = 10\n",
    "raw_x = loader.dataset[idx][0].unsqueeze(0)\n",
    "raw_y = loader.dataset[idx][1].unsqueeze(0)\n",
    "\n",
    "fno.vis(raw_x, raw_y, normalizer)\n",
    "unet.vis(raw_x, raw_y, normalizer)\n",
    "ddpm.vis(raw_x, raw_y, normalizer)\n",
    "sr3.vis(raw_x, raw_y, normalizer)"
   ]
  }
 ],
 "metadata": {
  "kernelspec": {
   "display_name": "base",
   "language": "python",
   "name": "python3"
  },
  "language_info": {
   "codemirror_mode": {
    "name": "ipython",
    "version": 3
   },
   "file_extension": ".py",
   "mimetype": "text/x-python",
   "name": "python",
   "nbconvert_exporter": "python",
   "pygments_lexer": "ipython3",
   "version": "3.10.14"
  }
 },
 "nbformat": 4,
 "nbformat_minor": 5
}
